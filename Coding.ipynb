{
  "cells": [
    {
      "cell_type": "markdown",
      "metadata": {
        "id": "Y6DyphAUEBOi"
      },
      "source": [
        "# Deep Learning {-}\n",
        "\n",
        "This repository aims at familiarizing with training and testing a Deep Neural Network (DNN).\n",
        "\n",
        "- Load the data.\n",
        "- Process and normalize the images.\n",
        "- Build, train and test the two following Deep Neural Networks:\n",
        " - First network: must at least consist of three (03) Convolutional layers, two (02) Fully Connected layers, two (02) Pooling layers.\n",
        " - Second network: has at most 4M (four millions) parameters (use model.summary() to check). The architecture is of your choice.\n",
        "- Evaluate the model performance on the test set.\n",
        "\n",
        "The dataset will be working on is cifar10 (https://www.cs.toronto.edu/~kriz/cifar.html) which consists of 60,000 32x32 colour images in 10 classes, with 6,000 images per class. There are 50,000 training images and 10,000 test images. Here follows the ten object classes:\n",
        "* airplane\n",
        "*\tautomobile\n",
        "*\tbird\n",
        "*\tcat\n",
        "*\tdeer\n",
        "*\tdog\n",
        "*\tfrog\n",
        "*\thorse\n",
        "*\tship\n",
        "*\ttruck\n",
        "\n",
        "Here follows some data samples in the dataset:\n",
        "\n",
        "![alt text](https://production-media.paperswithcode.com/datasets/4fdf2b82-2bc3-4f97-ba51-400322b228b1.png)\n",
        "\n"
      ]
    },
    {
      "cell_type": "markdown",
      "source": [
        "**1. Load the data**"
      ],
      "metadata": {
        "id": "m17N08Ik6Huj"
      }
    },
    {
      "cell_type": "code",
      "execution_count": null,
      "metadata": {
        "id": "o7yiMO-bEBOl"
      },
      "outputs": [],
      "source": [
        "# Import libraries\n",
        "import numpy as np\n",
        "import tensorflow as tf\n",
        "import keras              # Keras is the high-level API of TensorFlow"
      ]
    },
    {
      "cell_type": "code",
      "execution_count": null,
      "metadata": {
        "colab": {
          "base_uri": "https://localhost:8080/"
        },
        "id": "M6_ZhoDnfROl",
        "outputId": "f552ccfb-1c0b-4ff8-b4ea-25d9aff5ca7a"
      },
      "outputs": [
        {
          "output_type": "stream",
          "name": "stdout",
          "text": [
            "Train shape: X_train = (45000, 32, 32, 3), y_train = (45000, 1)\n",
            "Validation shape: X_val = (5000, 32, 32, 3), y_val = (5000, 1)\n",
            "Test shape: X_test = (10000, 32, 32, 3), y_test = (10000, 1)\n"
          ]
        }
      ],
      "source": [
        "# Load the cifar10 dataset and split train/test\n",
        "(X_train, y_train), (X_test, y_test) = tf.keras.datasets.cifar10.load_data()\n",
        "\n",
        "# Split train/valid from the training set\n",
        "from sklearn.model_selection import train_test_split\n",
        "X_train, X_val, y_train, y_val = train_test_split(X_train, y_train, test_size=0.1, random_state=5)\n",
        "\n",
        "print(\"Train shape: X_train = \" + str(X_train.shape) + \", y_train = \" + str(y_train.shape))\n",
        "print(\"Validation shape: X_val = \" + str(X_val.shape) + \", y_val = \" + str(y_val.shape))\n",
        "print(\"Test shape: X_test = \" + str(X_test.shape) + \", y_test = \" + str(y_test.shape))"
      ]
    },
    {
      "cell_type": "code",
      "execution_count": null,
      "metadata": {
        "colab": {
          "base_uri": "https://localhost:8080/",
          "height": 843
        },
        "id": "v9EqVmHqfoL9",
        "outputId": "46f408f9-49ac-4154-9a56-e1049a3d79cf"
      },
      "outputs": [
        {
          "output_type": "display_data",
          "data": {
            "text/plain": [
              "<Figure size 640x480 with 1 Axes>"
            ],
            "image/png": "[encoded data removed]"
          },
          "metadata": {}
        },
        {
          "output_type": "display_data",
          "data": {
            "text/plain": [
              "<Figure size 640x480 with 1 Axes>"
            ],
            "image/png": "[encoded data removed]"
          },
          "metadata": {}
        }
      ],
      "source": [
        "# Show some samples in the dataset\n",
        "import matplotlib.pyplot as plt\n",
        "imgplot = plt.imshow(X_train[5])\n",
        "plt.show()\n",
        "imgplot = plt.imshow(X_test[10])\n",
        "plt.show()"
      ]
    },
    {
      "cell_type": "markdown",
      "source": [
        "**2. Process and normalize the images**"
      ],
      "metadata": {
        "id": "lc3Aj-t96GLy"
      }
    },
    {
      "cell_type": "code",
      "source": [
        "# Show label and pixel values of an image\n",
        "print(\"Label:\", y_train[0])\n",
        "print(\"Pixel values:\", X_train[0])\n",
        "\n",
        "# Show the image\n",
        "imgplot = plt.imshow(X_train[0], cmap='gray')\n",
        "plt.show()"
      ],
      "metadata": {
        "colab": {
          "base_uri": "https://localhost:8080/",
          "height": 1000
        },
        "id": "XXPKu-a06jw3",
        "outputId": "2521c4a1-d4f1-4152-e37a-01d23199a90a"
      },
      "execution_count": null,
      "outputs": [
        {
          "output_type": "stream",
          "name": "stdout",
          "text": [
            "Label: [0]\n",
            "Pixel values: [[[255 255 255]\n",
            "  [252 254 255]\n",
            "  [231 234 235]\n",
            "  ...\n",
            "  [189 200 204]\n",
            "  [187 198 202]\n",
            "  [186 197 201]]\n",
            "\n",
            " [[255 255 255]\n",
            "  [249 251 252]\n",
            "  [217 221 223]\n",
            "  ...\n",
            "  [187 198 202]\n",
            "  [185 196 200]\n",
            "  [184 194 199]]\n",
            "\n",
            " [[255 255 255]\n",
            "  [240 242 244]\n",
            "  [190 193 197]\n",
            "  ...\n",
            "  [186 197 201]\n",
            "  [184 195 199]\n",
            "  [184 193 198]]\n",
            "\n",
            " ...\n",
            "\n",
            " [[132 131 126]\n",
            "  [136 135 130]\n",
            "  [144 143 138]\n",
            "  ...\n",
            "  [132 132 122]\n",
            "  [131 131 121]\n",
            "  [123 120 114]]\n",
            "\n",
            " [[129 128 122]\n",
            "  [132 131 126]\n",
            "  [139 138 133]\n",
            "  ...\n",
            "  [137 137 126]\n",
            "  [133 133 123]\n",
            "  [124 122 116]]\n",
            "\n",
            " [[131 128 123]\n",
            "  [133 131 126]\n",
            "  [140 137 132]\n",
            "  ...\n",
            "  [135 133 124]\n",
            "  [139 137 130]\n",
            "  [132 131 125]]]\n"
          ]
        },
        {
          "output_type": "display_data",
          "data": {
            "text/plain": [
              "<Figure size 640x480 with 1 Axes>"
            ],
            "image/png": "[encoded data removed]"
          },
          "metadata": {}
        }
      ]
    },
    {
      "cell_type": "code",
      "source": [
        "# Normalize pixel values\n",
        "X_train_norm, X_val_norm, X_test_norm = X_train/255.0, X_val/255.0, X_test/255.0"
      ],
      "metadata": {
        "id": "BJgirGSa7CHe"
      },
      "execution_count": null,
      "outputs": []
    },
    {
      "cell_type": "markdown",
      "source": [
        "**3. Build, train and test the two Deep Neural Networks**"
      ],
      "metadata": {
        "id": "TvWrqYC46TII"
      }
    },
    {
      "cell_type": "markdown",
      "source": [
        "**3.1. First network**"
      ],
      "metadata": {
        "id": "aS4-NCMG9VjX"
      }
    },
    {
      "cell_type": "code",
      "source": [
        "# Import libraries\n",
        "from keras.models import Sequential\n",
        "from keras.layers import Conv2D, Dense, MaxPooling2D, Flatten, Dropout\n",
        "\n",
        "# Define the first network architecture\n",
        "def build_first_network(input_shape, num_classes):\n",
        "    model = Sequential()\n",
        "# Convolutional layers\n",
        "    model.add(Conv2D(32, (3, 3), activation='relu', padding = 'same', input_shape=input_shape))\n",
        "    model.add(MaxPooling2D((2, 2)))\n",
        "    model.add(Conv2D(64, (3, 3), activation='relu'))\n",
        "    model.add(MaxPooling2D((2, 2)))\n",
        "    model.add(Conv2D(128, (3, 3), activation='relu'))\n",
        "    model.add(MaxPooling2D((2, 2)))\n",
        "\n",
        "    model.add(Flatten())  # Flatten the vector to 1D\n",
        "\n",
        "    # Fully connected layers and Relu activation\n",
        "    model.add(Dense(512, activation='relu'))\n",
        "    model.add(Dense(256, activation='relu'))\n",
        "\n",
        "    # Output layer and softmax activitation for classification\n",
        "    model.add(Dense(num_classes, activation='softmax'))\n",
        "\n",
        "    return model\n",
        "\n",
        "# Build the model\n",
        "input_shape = (32, 32, 3)  # Input shape for images\n",
        "num_classes = 10  # Number of classes\n",
        "first_model = build_first_network(input_shape, num_classes)\n",
        "first_model.summary()"
      ],
      "metadata": {
        "colab": {
          "base_uri": "https://localhost:8080/"
        },
        "id": "8L7stnIK8-ol",
        "outputId": "075fb584-c80a-4e60-ebc5-f4a57be5c863"
      },
      "execution_count": null,
      "outputs": [
        {
          "output_type": "stream",
          "name": "stdout",
          "text": [
            "Model: \"sequential_7\"\n",
            "_________________________________________________________________\n",
            " Layer (type)                Output Shape              Param #   \n",
            "=================================================================\n",
            " conv2d_30 (Conv2D)          (None, 32, 32, 32)        896       \n",
            "                                                                 \n",
            " max_pooling2d_19 (MaxPooli  (None, 16, 16, 32)        0         \n",
            " ng2D)                                                           \n",
            "                                                                 \n",
            " conv2d_31 (Conv2D)          (None, 14, 14, 64)        18496     \n",
            "                                                                 \n",
            " max_pooling2d_20 (MaxPooli  (None, 7, 7, 64)          0         \n",
            " ng2D)                                                           \n",
            "                                                                 \n",
            " conv2d_32 (Conv2D)          (None, 5, 5, 128)         73856     \n",
            "                                                                 \n",
            " max_pooling2d_21 (MaxPooli  (None, 2, 2, 128)         0         \n",
            " ng2D)                                                           \n",
            "                                                                 \n",
            " flatten_6 (Flatten)         (None, 512)               0         \n",
            "                                                                 \n",
            " dense_14 (Dense)            (None, 512)               262656    \n",
            "                                                                 \n",
            " dense_15 (Dense)            (None, 256)               131328    \n",
            "                                                                 \n",
            " dense_16 (Dense)            (None, 10)                2570      \n",
            "                                                                 \n",
            "=================================================================\n",
            "Total params: 489802 (1.87 MB)\n",
            "Trainable params: 489802 (1.87 MB)\n",
            "Non-trainable params: 0 (0.00 Byte)\n",
            "_________________________________________________________________\n"
          ]
        }
      ]
    },
    {
      "cell_type": "code",
      "source": [
        "# Compile the model\n",
        "first_model.compile(loss = tf.keras.losses.sparse_categorical_crossentropy, # Define loss function\n",
        "                optimizer= tf.keras.optimizers.Adam(learning_rate=1e-2), metrics=['accuracy']) # Define initial learning rate and metrics.\n",
        "\n",
        "# Train the model.\n",
        "first_model.fit(X_train_norm, y_train, # Data feature and data label\n",
        "                    batch_size=1024, # Batch size\n",
        "                    epochs=10, # Number of training epochs\n",
        "                    validation_data=(X_val_norm, y_val)) # Validation set\n",
        "\n",
        "# Show the model performance\n",
        "result = first_model.evaluate(X_test_norm, y_test) # If unspecified, batch_size will default to 32\n",
        "print(first_model.metrics_names) # result[0] is loss, result[1] is accuracy.\n",
        "print(\"Loss and accuracy on the test set: loss = {}, accuracy = {}\".format(result[0],result[1]))\n"
      ],
      "metadata": {
        "colab": {
          "base_uri": "https://localhost:8080/"
        },
        "id": "wcLo1QjuF2I1",
        "outputId": "deb54fff-65d6-4475-9bcd-ef4fe065a0a5"
      },
      "execution_count": null,
      "outputs": [
        {
          "output_type": "stream",
          "name": "stdout",
          "text": [
            "Epoch 1/10\n",
            "44/44 [==============================] - 5s 59ms/step - loss: 2.3025 - accuracy: 0.1380 - val_loss: 2.0259 - val_accuracy: 0.2050\n",
            "Epoch 2/10\n",
            "44/44 [==============================] - 1s 30ms/step - loss: 1.9619 - accuracy: 0.2356 - val_loss: 1.9146 - val_accuracy: 0.2564\n",
            "Epoch 3/10\n",
            "44/44 [==============================] - 1s 31ms/step - loss: 1.8242 - accuracy: 0.3043 - val_loss: 1.7443 - val_accuracy: 0.3370\n",
            "Epoch 4/10\n",
            "44/44 [==============================] - 1s 30ms/step - loss: 1.6820 - accuracy: 0.3679 - val_loss: 1.6619 - val_accuracy: 0.3790\n",
            "Epoch 5/10\n",
            "44/44 [==============================] - 1s 32ms/step - loss: 1.6072 - accuracy: 0.3999 - val_loss: 1.5855 - val_accuracy: 0.4052\n",
            "Epoch 6/10\n",
            "44/44 [==============================] - 2s 34ms/step - loss: 1.5361 - accuracy: 0.4347 - val_loss: 1.5632 - val_accuracy: 0.4316\n",
            "Epoch 7/10\n",
            "44/44 [==============================] - 1s 31ms/step - loss: 1.4975 - accuracy: 0.4510 - val_loss: 1.5469 - val_accuracy: 0.4322\n",
            "Epoch 8/10\n",
            "44/44 [==============================] - 1s 31ms/step - loss: 1.4596 - accuracy: 0.4684 - val_loss: 1.4932 - val_accuracy: 0.4492\n",
            "Epoch 9/10\n",
            "44/44 [==============================] - 1s 31ms/step - loss: 1.4263 - accuracy: 0.4802 - val_loss: 1.4766 - val_accuracy: 0.4630\n",
            "Epoch 10/10\n",
            "44/44 [==============================] - 1s 30ms/step - loss: 1.3981 - accuracy: 0.4926 - val_loss: 1.4818 - val_accuracy: 0.4704\n",
            "313/313 [==============================] - 1s 4ms/step - loss: 1.4558 - accuracy: 0.4720\n",
            "['loss', 'accuracy']\n",
            "Loss and accuracy on the test set: loss = 1.455784559249878, accuracy = 0.47200000286102295\n"
          ]
        }
      ]
    },
    {
      "cell_type": "markdown",
      "source": [
        "**3.2. Second network**"
      ],
      "metadata": {
        "id": "LZ37KuVCID3R"
      }
    },
    {
      "cell_type": "code",
      "source": [
        "from keras.optimizers import Adam\n",
        "from keras.callbacks import EarlyStopping\n",
        "\n",
        "# Define the second network architecture\n",
        "def build_second_network(input_shape, num_classes):\n",
        "    model = Sequential()\n",
        "\n",
        "    # Convolutional layers\n",
        "    model.add(Conv2D(32, (3, 3), activation='relu', padding='same', input_shape=input_shape))\n",
        "    model.add(Conv2D(32, (3, 3), activation='relu'))\n",
        "    model.add(MaxPooling2D((2, 2)))\n",
        "    model.add(Dropout(0.25)) # Added Dropout layers after convolutional layers to reduce overfitting\n",
        "\n",
        "    model.add(Conv2D(64, (3, 3), activation='relu'))\n",
        "    model.add(Conv2D(64, (3, 3), activation='relu'))\n",
        "    model.add(MaxPooling2D((2, 2)))\n",
        "    model.add(Dropout(0.25))\n",
        "\n",
        "    model.add(Flatten())\n",
        "\n",
        "    # Fully connected layers\n",
        "    model.add(Dense(512, activation='relu'))\n",
        "    model.add(Dropout(0.5))\n",
        "\n",
        "    # Output layer\n",
        "    model.add(Dense(num_classes, activation='softmax'))\n",
        "\n",
        "    return model\n",
        "\n",
        "# Build the model\n",
        "input_shape = (32, 32, 3)  # Input shape for images\n",
        "num_classes = 10  # Number of classes\n",
        "second_model = build_second_network(input_shape, num_classes)\n",
        "second_model.summary()\n"
      ],
      "metadata": {
        "colab": {
          "base_uri": "https://localhost:8080/"
        },
        "id": "K7hZw2naIJwq",
        "outputId": "a19d19e8-3998-432d-a59c-8721d0027e1e"
      },
      "execution_count": null,
      "outputs": [
        {
          "output_type": "stream",
          "name": "stdout",
          "text": [
            "Model: \"sequential_8\"\n",
            "_________________________________________________________________\n",
            " Layer (type)                Output Shape              Param #   \n",
            "=================================================================\n",
            " conv2d_33 (Conv2D)          (None, 32, 32, 32)        896       \n",
            "                                                                 \n",
            " conv2d_34 (Conv2D)          (None, 30, 30, 32)        9248      \n",
            "                                                                 \n",
            " max_pooling2d_22 (MaxPooli  (None, 15, 15, 32)        0         \n",
            " ng2D)                                                           \n",
            "                                                                 \n",
            " dropout_16 (Dropout)        (None, 15, 15, 32)        0         \n",
            "                                                                 \n",
            " conv2d_35 (Conv2D)          (None, 13, 13, 64)        18496     \n",
            "                                                                 \n",
            " conv2d_36 (Conv2D)          (None, 11, 11, 64)        36928     \n",
            "                                                                 \n",
            " max_pooling2d_23 (MaxPooli  (None, 5, 5, 64)          0         \n",
            " ng2D)                                                           \n",
            "                                                                 \n",
            " dropout_17 (Dropout)        (None, 5, 5, 64)          0         \n",
            "                                                                 \n",
            " flatten_7 (Flatten)         (None, 1600)              0         \n",
            "                                                                 \n",
            " dense_17 (Dense)            (None, 512)               819712    \n",
            "                                                                 \n",
            " dropout_18 (Dropout)        (None, 512)               0         \n",
            "                                                                 \n",
            " dense_18 (Dense)            (None, 10)                5130      \n",
            "                                                                 \n",
            "=================================================================\n",
            "Total params: 890410 (3.40 MB)\n",
            "Trainable params: 890410 (3.40 MB)\n",
            "Non-trainable params: 0 (0.00 Byte)\n",
            "_________________________________________________________________\n"
          ]
        }
      ]
    },
    {
      "cell_type": "code",
      "source": [
        "# Compile the model\n",
        "second_model.compile(loss = tf.keras.losses.sparse_categorical_crossentropy, # Define loss function\n",
        "                optimizer= tf.keras.optimizers.Adam(learning_rate=1e-3), metrics=['accuracy']) # Decrease initial learning rate\n",
        "\n",
        "# Define early stopping to prevent overfitting\n",
        "early_stopping = EarlyStopping(monitor='val_loss', patience=5, restore_best_weights=True)\n",
        "\n",
        "\n",
        "# Train the model.\n",
        "second_model.fit(X_train_norm, y_train, # Data feature and data label\n",
        "                    batch_size=1024, # Batch size\n",
        "                    epochs=1000, # Increase number of training epochs\n",
        "                    validation_data=(X_val_norm, y_val), # Validation set\n",
        "                    callbacks=[early_stopping]) #Increased the training epochs and added early stopping to allow the model to train longer while preventing overfitting.\n",
        "\n",
        "# Show the model performance\n",
        "result = second_model.evaluate(X_test_norm, y_test) # If unspecified, batch_size will default to 32\n",
        "print(second_model.metrics_names) # result[0] is loss, result[1] is accuracy.\n",
        "print(\"Loss and accuracy on the test set: loss = {}, accuracy = {}\".format(result[0],result[1]))"
      ],
      "metadata": {
        "colab": {
          "base_uri": "https://localhost:8080/"
        },
        "id": "jl3Cbi7bJOVJ",
        "outputId": "f353fb02-cf35-435f-9a9c-75c5a46bcbf7"
      },
      "execution_count": null,
      "outputs": [
        {
          "output_type": "stream",
          "name": "stdout",
          "text": [
            "Epoch 1/1000\n",
            "44/44 [==============================] - 7s 76ms/step - loss: 2.0125 - accuracy: 0.2546 - val_loss: 1.7311 - val_accuracy: 0.3714\n",
            "Epoch 2/1000\n",
            "44/44 [==============================] - 3s 71ms/step - loss: 1.6479 - accuracy: 0.4003 - val_loss: 1.4975 - val_accuracy: 0.4498\n",
            "Epoch 3/1000\n",
            "44/44 [==============================] - 3s 67ms/step - loss: 1.4851 - accuracy: 0.4621 - val_loss: 1.3818 - val_accuracy: 0.5090\n",
            "Epoch 4/1000\n",
            "44/44 [==============================] - 3s 66ms/step - loss: 1.3821 - accuracy: 0.5052 - val_loss: 1.3255 - val_accuracy: 0.5228\n",
            "Epoch 5/1000\n",
            "44/44 [==============================] - 3s 68ms/step - loss: 1.2913 - accuracy: 0.5388 - val_loss: 1.2393 - val_accuracy: 0.5572\n",
            "Epoch 6/1000\n",
            "44/44 [==============================] - 3s 69ms/step - loss: 1.2337 - accuracy: 0.5625 - val_loss: 1.1992 - val_accuracy: 0.5766\n",
            "Epoch 7/1000\n",
            "44/44 [==============================] - 3s 68ms/step - loss: 1.1839 - accuracy: 0.5799 - val_loss: 1.1138 - val_accuracy: 0.6012\n",
            "Epoch 8/1000\n",
            "44/44 [==============================] - 3s 67ms/step - loss: 1.1245 - accuracy: 0.6016 - val_loss: 1.0678 - val_accuracy: 0.6118\n",
            "Epoch 9/1000\n",
            "44/44 [==============================] - 3s 68ms/step - loss: 1.0863 - accuracy: 0.6187 - val_loss: 1.0341 - val_accuracy: 0.6312\n",
            "Epoch 10/1000\n",
            "44/44 [==============================] - 3s 69ms/step - loss: 1.0481 - accuracy: 0.6300 - val_loss: 1.0114 - val_accuracy: 0.6386\n",
            "Epoch 11/1000\n",
            "44/44 [==============================] - 3s 68ms/step - loss: 1.0217 - accuracy: 0.6407 - val_loss: 0.9592 - val_accuracy: 0.6536\n",
            "Epoch 12/1000\n",
            "44/44 [==============================] - 3s 67ms/step - loss: 0.9738 - accuracy: 0.6578 - val_loss: 0.9480 - val_accuracy: 0.6536\n",
            "Epoch 13/1000\n",
            "44/44 [==============================] - 3s 67ms/step - loss: 0.9409 - accuracy: 0.6666 - val_loss: 0.9222 - val_accuracy: 0.6728\n",
            "Epoch 14/1000\n",
            "44/44 [==============================] - 3s 71ms/step - loss: 0.9152 - accuracy: 0.6788 - val_loss: 0.9004 - val_accuracy: 0.6798\n",
            "Epoch 15/1000\n",
            "44/44 [==============================] - 3s 68ms/step - loss: 0.8875 - accuracy: 0.6883 - val_loss: 0.8788 - val_accuracy: 0.6866\n",
            "Epoch 16/1000\n",
            "44/44 [==============================] - 3s 68ms/step - loss: 0.8583 - accuracy: 0.6982 - val_loss: 0.8562 - val_accuracy: 0.6992\n",
            "Epoch 17/1000\n",
            "44/44 [==============================] - 3s 67ms/step - loss: 0.8320 - accuracy: 0.7081 - val_loss: 0.8307 - val_accuracy: 0.7058\n",
            "Epoch 18/1000\n",
            "44/44 [==============================] - 3s 69ms/step - loss: 0.8057 - accuracy: 0.7198 - val_loss: 0.8294 - val_accuracy: 0.7120\n",
            "Epoch 19/1000\n",
            "44/44 [==============================] - 3s 70ms/step - loss: 0.7925 - accuracy: 0.7261 - val_loss: 0.7916 - val_accuracy: 0.7218\n",
            "Epoch 20/1000\n",
            "44/44 [==============================] - 3s 69ms/step - loss: 0.7768 - accuracy: 0.7283 - val_loss: 0.7817 - val_accuracy: 0.7300\n",
            "Epoch 21/1000\n",
            "44/44 [==============================] - 3s 67ms/step - loss: 0.7462 - accuracy: 0.7379 - val_loss: 0.7841 - val_accuracy: 0.7218\n",
            "Epoch 22/1000\n",
            "44/44 [==============================] - 3s 70ms/step - loss: 0.7294 - accuracy: 0.7430 - val_loss: 0.7539 - val_accuracy: 0.7360\n",
            "Epoch 23/1000\n",
            "44/44 [==============================] - 3s 70ms/step - loss: 0.7103 - accuracy: 0.7525 - val_loss: 0.7456 - val_accuracy: 0.7394\n",
            "Epoch 24/1000\n",
            "44/44 [==============================] - 3s 69ms/step - loss: 0.6931 - accuracy: 0.7559 - val_loss: 0.7559 - val_accuracy: 0.7346\n",
            "Epoch 25/1000\n",
            "44/44 [==============================] - 3s 69ms/step - loss: 0.6778 - accuracy: 0.7645 - val_loss: 0.7612 - val_accuracy: 0.7362\n",
            "Epoch 26/1000\n",
            "44/44 [==============================] - 3s 72ms/step - loss: 0.6556 - accuracy: 0.7692 - val_loss: 0.7338 - val_accuracy: 0.7438\n",
            "Epoch 27/1000\n",
            "44/44 [==============================] - 3s 70ms/step - loss: 0.6455 - accuracy: 0.7730 - val_loss: 0.7233 - val_accuracy: 0.7470\n",
            "Epoch 28/1000\n",
            "44/44 [==============================] - 3s 70ms/step - loss: 0.6286 - accuracy: 0.7790 - val_loss: 0.7166 - val_accuracy: 0.7508\n",
            "Epoch 29/1000\n",
            "44/44 [==============================] - 3s 70ms/step - loss: 0.6178 - accuracy: 0.7822 - val_loss: 0.7648 - val_accuracy: 0.7394\n",
            "Epoch 30/1000\n",
            "44/44 [==============================] - 3s 71ms/step - loss: 0.6056 - accuracy: 0.7864 - val_loss: 0.7146 - val_accuracy: 0.7524\n",
            "Epoch 31/1000\n",
            "44/44 [==============================] - 3s 69ms/step - loss: 0.5951 - accuracy: 0.7905 - val_loss: 0.7087 - val_accuracy: 0.7500\n",
            "Epoch 32/1000\n",
            "44/44 [==============================] - 3s 68ms/step - loss: 0.5777 - accuracy: 0.7963 - val_loss: 0.7120 - val_accuracy: 0.7518\n",
            "Epoch 33/1000\n",
            "44/44 [==============================] - 3s 68ms/step - loss: 0.5589 - accuracy: 0.8040 - val_loss: 0.6989 - val_accuracy: 0.7516\n",
            "Epoch 34/1000\n",
            "44/44 [==============================] - 3s 72ms/step - loss: 0.5604 - accuracy: 0.8038 - val_loss: 0.6916 - val_accuracy: 0.7580\n",
            "Epoch 35/1000\n",
            "44/44 [==============================] - 3s 68ms/step - loss: 0.5429 - accuracy: 0.8078 - val_loss: 0.6728 - val_accuracy: 0.7630\n",
            "Epoch 36/1000\n",
            "44/44 [==============================] - 3s 70ms/step - loss: 0.5258 - accuracy: 0.8147 - val_loss: 0.6844 - val_accuracy: 0.7660\n",
            "Epoch 37/1000\n",
            "44/44 [==============================] - 3s 68ms/step - loss: 0.5220 - accuracy: 0.8161 - val_loss: 0.6831 - val_accuracy: 0.7658\n",
            "Epoch 38/1000\n",
            "44/44 [==============================] - 3s 71ms/step - loss: 0.5127 - accuracy: 0.8185 - val_loss: 0.6870 - val_accuracy: 0.7656\n",
            "Epoch 39/1000\n",
            "44/44 [==============================] - 3s 70ms/step - loss: 0.5008 - accuracy: 0.8238 - val_loss: 0.6909 - val_accuracy: 0.7592\n",
            "Epoch 40/1000\n",
            "44/44 [==============================] - 3s 69ms/step - loss: 0.4897 - accuracy: 0.8284 - val_loss: 0.6656 - val_accuracy: 0.7650\n",
            "Epoch 41/1000\n",
            "44/44 [==============================] - 3s 69ms/step - loss: 0.4762 - accuracy: 0.8298 - val_loss: 0.6919 - val_accuracy: 0.7636\n",
            "Epoch 42/1000\n",
            "44/44 [==============================] - 3s 72ms/step - loss: 0.4692 - accuracy: 0.8349 - val_loss: 0.6769 - val_accuracy: 0.7668\n",
            "Epoch 43/1000\n",
            "44/44 [==============================] - 3s 70ms/step - loss: 0.4597 - accuracy: 0.8354 - val_loss: 0.6663 - val_accuracy: 0.7742\n",
            "Epoch 44/1000\n",
            "44/44 [==============================] - 3s 69ms/step - loss: 0.4525 - accuracy: 0.8402 - val_loss: 0.6719 - val_accuracy: 0.7744\n",
            "Epoch 45/1000\n",
            "44/44 [==============================] - 3s 70ms/step - loss: 0.4394 - accuracy: 0.8434 - val_loss: 0.6890 - val_accuracy: 0.7694\n",
            "313/313 [==============================] - 1s 4ms/step - loss: 0.6578 - accuracy: 0.7779\n",
            "['loss', 'accuracy']\n",
            "Loss and accuracy on the test set: loss = 0.6577607989311218, accuracy = 0.777899980545044\n"
          ]
        }
      ]
    }
  ],
  "metadata": {
    "accelerator": "GPU",
    "colab": {
      "provenance": []
    },
    "kernelspec": {
      "display_name": "Python 3 (ipykernel)",
      "language": "python",
      "name": "python3"
    },
    "language_info": {
      "codemirror_mode": {
        "name": "ipython",
        "version": 3
      },
      "file_extension": ".py",
      "mimetype": "text/x-python",
      "name": "python",
      "nbconvert_exporter": "python",
      "pygments_lexer": "ipython3",
      "version": "3.8.3"
    }
  },
  "nbformat": 4,
  "nbformat_minor": 0
}